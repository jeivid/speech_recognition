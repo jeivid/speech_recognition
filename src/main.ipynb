{
 "cells": [
  {
   "cell_type": "code",
   "execution_count": null,
   "metadata": {},
   "outputs": [],
   "source": [
    "import speech_recognition as sr\n",
    "from pydub import AudioSegment\n",
    "\n",
    "# Convert mp3 to wav\n",
    "sound = AudioSegment.from_mp3(\"Akhundzade3.mp3\")\n",
    "sound.export(\"output.wav\", format=\"wav\")\n",
    "\n",
    "# Initialize recognizer\n",
    "recognizer = sr.Recognizer()\n",
    "\n",
    "# Recognize speech using Google's speech recognition\n",
    "with sr.AudioFile(\"output.wav\") as source:\n",
    "    audio = recognizer.record(source)\n",
    "    try:\n",
    "        text = recognizer.recognize_google(audio, language=\"fa-IR\")\n",
    "        print(text)\n",
    "    except sr.UnknownValueError:\n",
    "        print(\"bebin koja ridi?\")\n",
    "    except sr.RequestError as e:\n",
    "        print(f\"khataye ertebat, bebin koja ridim?: {e}\")\n"
   ]
  }
 ],
 "metadata": {
  "kernelspec": {
   "display_name": "Python 3",
   "language": "python",
   "name": "python3"
  },
  "language_info": {
   "codemirror_mode": {
    "name": "ipython",
    "version": 3
   },
   "file_extension": ".py",
   "mimetype": "text/x-python",
   "name": "python",
   "nbconvert_exporter": "python",
   "pygments_lexer": "ipython3",
   "version": "3.11.9"
  }
 },
 "nbformat": 4,
 "nbformat_minor": 2
}
